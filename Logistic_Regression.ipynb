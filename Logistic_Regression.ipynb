{
  "nbformat": 4,
  "nbformat_minor": 0,
  "metadata": {
    "colab": {
      "provenance": []
    },
    "kernelspec": {
      "name": "python3",
      "display_name": "Python 3"
    },
    "language_info": {
      "name": "python"
    }
  },
  "cells": [
    {
      "cell_type": "code",
      "source": [
        "! pip install kaggle"
      ],
      "metadata": {
        "colab": {
          "base_uri": "https://localhost:8080/"
        },
        "id": "tIhxO99WOjnY",
        "outputId": "436c4f2d-6258-4347-b092-aa6eeec05498"
      },
      "execution_count": null,
      "outputs": [
        {
          "output_type": "stream",
          "name": "stdout",
          "text": [
            "Requirement already satisfied: kaggle in /usr/local/lib/python3.11/dist-packages (1.7.4.5)\n",
            "Requirement already satisfied: bleach in /usr/local/lib/python3.11/dist-packages (from kaggle) (6.2.0)\n",
            "Requirement already satisfied: certifi>=14.05.14 in /usr/local/lib/python3.11/dist-packages (from kaggle) (2025.8.3)\n",
            "Requirement already satisfied: charset-normalizer in /usr/local/lib/python3.11/dist-packages (from kaggle) (3.4.2)\n",
            "Requirement already satisfied: idna in /usr/local/lib/python3.11/dist-packages (from kaggle) (3.10)\n",
            "Requirement already satisfied: protobuf in /usr/local/lib/python3.11/dist-packages (from kaggle) (5.29.5)\n",
            "Requirement already satisfied: python-dateutil>=2.5.3 in /usr/local/lib/python3.11/dist-packages (from kaggle) (2.9.0.post0)\n",
            "Requirement already satisfied: python-slugify in /usr/local/lib/python3.11/dist-packages (from kaggle) (8.0.4)\n",
            "Requirement already satisfied: requests in /usr/local/lib/python3.11/dist-packages (from kaggle) (2.32.3)\n",
            "Requirement already satisfied: setuptools>=21.0.0 in /usr/local/lib/python3.11/dist-packages (from kaggle) (75.2.0)\n",
            "Requirement already satisfied: six>=1.10 in /usr/local/lib/python3.11/dist-packages (from kaggle) (1.17.0)\n",
            "Requirement already satisfied: text-unidecode in /usr/local/lib/python3.11/dist-packages (from kaggle) (1.3)\n",
            "Requirement already satisfied: tqdm in /usr/local/lib/python3.11/dist-packages (from kaggle) (4.67.1)\n",
            "Requirement already satisfied: urllib3>=1.15.1 in /usr/local/lib/python3.11/dist-packages (from kaggle) (2.5.0)\n",
            "Requirement already satisfied: webencodings in /usr/local/lib/python3.11/dist-packages (from kaggle) (0.5.1)\n"
          ]
        }
      ]
    },
    {
      "cell_type": "code",
      "source": [
        "from google.colab import drive\n",
        "drive.mount('/content/drive')"
      ],
      "metadata": {
        "colab": {
          "base_uri": "https://localhost:8080/"
        },
        "id": "bvRx4TTfOje8",
        "outputId": "b6febb0a-d4a4-4198-92b6-9fd42f2ddc87"
      },
      "execution_count": null,
      "outputs": [
        {
          "output_type": "stream",
          "name": "stdout",
          "text": [
            "Mounted at /content/drive\n"
          ]
        }
      ]
    },
    {
      "cell_type": "code",
      "source": [
        "! mkdir ~/.kaggle"
      ],
      "metadata": {
        "id": "i1OLZccUO5Mm"
      },
      "execution_count": null,
      "outputs": []
    },
    {
      "cell_type": "code",
      "source": [
        "!cp \"/content/drive/MyDrive/School  Học/Data Science/kaggle.json\" ~/.kaggle/kaggle.json"
      ],
      "metadata": {
        "id": "S39usipPO5g_"
      },
      "execution_count": null,
      "outputs": []
    },
    {
      "cell_type": "code",
      "source": [
        "! chmod 600 ~/.kaggle/kaggle.json"
      ],
      "metadata": {
        "id": "Cou_dtJVP6tF"
      },
      "execution_count": null,
      "outputs": []
    },
    {
      "cell_type": "markdown",
      "source": [],
      "metadata": {
        "id": "VqVKipfKP-Gj"
      }
    },
    {
      "cell_type": "code",
      "source": [
        "! kaggle competitions download mlolympiadbd2025"
      ],
      "metadata": {
        "colab": {
          "base_uri": "https://localhost:8080/"
        },
        "id": "F6xBVfyoQBeO",
        "outputId": "1d0ce027-e1d3-48b0-f9d5-720fa7f76114"
      },
      "execution_count": null,
      "outputs": [
        {
          "output_type": "stream",
          "name": "stdout",
          "text": [
            "Downloading mlolympiadbd2025.zip to /content\n",
            "\r  0% 0.00/8.17k [00:00<?, ?B/s]\n",
            "\r100% 8.17k/8.17k [00:00<00:00, 31.4MB/s]\n"
          ]
        }
      ]
    },
    {
      "cell_type": "code",
      "source": [
        "! unzip mlolympiadbd2025.zip"
      ],
      "metadata": {
        "colab": {
          "base_uri": "https://localhost:8080/"
        },
        "id": "zxp9lxgZRUqJ",
        "outputId": "b2372793-f7b0-4ec6-fe5f-d3547cd2879f"
      },
      "execution_count": null,
      "outputs": [
        {
          "output_type": "stream",
          "name": "stdout",
          "text": [
            "Archive:  mlolympiadbd2025.zip\n",
            "  inflating: metaData.csv            \n",
            "  inflating: sample_submission.csv   \n",
            "  inflating: test.csv                \n",
            "  inflating: train.csv               \n"
          ]
        }
      ]
    },
    {
      "cell_type": "code",
      "source": [
        "import pandas as pd\n",
        "\n",
        "train= pd.read_csv('train.csv')\n",
        "train\n",
        "train.shape\n",
        "\n",
        "test=pd.read_csv('test.csv')\n",
        "test\n",
        "test.shape\n",
        "\n",
        "print(train)"
      ],
      "metadata": {
        "colab": {
          "base_uri": "https://localhost:8080/"
        },
        "id": "cKnwcn1CRZtU",
        "outputId": "4b00d19a-0f01-43ab-9f77-03310811a9fb"
      },
      "execution_count": null,
      "outputs": [
        {
          "output_type": "stream",
          "name": "stdout",
          "text": [
            "       Id  Age  SystolicBP  DiastolicBP  Blood glucose  BodyTemp  HeartRate  \\\n",
            "0     617   31         120           60            6.1      98.0         76   \n",
            "1     774   23         120           90            7.8      98.0         60   \n",
            "2     610   13          90           65            7.5     101.0         80   \n",
            "3     525   42         120           80            7.5      98.0         70   \n",
            "4      70   26          85           60            6.0     101.0         86   \n",
            "..    ...  ...         ...          ...            ...       ...        ...   \n",
            "806  1012   43         120           90           18.0      98.0         70   \n",
            "807   481   22         100           65            7.9      98.0         80   \n",
            "808   458   34          85           60           11.0     102.0         86   \n",
            "809   309   60          90           65            6.9      98.0         77   \n",
            "810   326   66          85           60            6.9      98.0         86   \n",
            "\n",
            "     RiskLevel  Usage  \n",
            "0            0  Train  \n",
            "1            1  Train  \n",
            "2            2  Train  \n",
            "3            0  Train  \n",
            "4            1  Train  \n",
            "..         ...    ...  \n",
            "806          2  Train  \n",
            "807          0  Train  \n",
            "808          2  Train  \n",
            "809          0  Train  \n",
            "810          0  Train  \n",
            "\n",
            "[811 rows x 9 columns]\n"
          ]
        }
      ]
    },
    {
      "cell_type": "code",
      "source": [
        "import sklearn\n",
        "\n",
        "from sklearn.model_selection import train_test_split\n",
        "from sklearn.linear_model import LinearRegression\n",
        "from sklearn.metrics import mean_squared_error\n",
        "x_columns_drop=[\"RiskLevel\",\"Usage\",\"Id\"]\n",
        "y=train[\"RiskLevel\"]\n",
        "X=train.drop(x_columns_drop,axis=1)\n",
        "\n",
        "X_train, X_test, y_train, y_test = train_test_split(X, y, test_size=0.2, random_state=35)\n"
      ],
      "metadata": {
        "id": "16OzoYORRZf8"
      },
      "execution_count": null,
      "outputs": []
    },
    {
      "cell_type": "markdown",
      "source": [
        "Using confusion matrix and classification report ."
      ],
      "metadata": {
        "id": "ZsKsjqQjPZ_2"
      }
    },
    {
      "cell_type": "code",
      "source": [
        "from sklearn.metrics import confusion_matrix, classification_report\n",
        "from sklearn.neighbors import KNeighborsClassifier\n",
        "\n",
        "knn= KNeighborsClassifier(n_neighbors=6)\n",
        "\n",
        "knn.fit(X_train,y_train)\n",
        "\n",
        "y_pred=knn.predict(X_test)\n",
        "\n",
        "print(confusion_matrix(y_test,y_pred))\n",
        "print(classification_report(y_test,y_pred))"
      ],
      "metadata": {
        "colab": {
          "base_uri": "https://localhost:8080/"
        },
        "id": "VB7YBtEJOzib",
        "outputId": "48ebb17c-e28c-413c-9442-bda948ccece8"
      },
      "execution_count": null,
      "outputs": [
        {
          "output_type": "stream",
          "name": "stdout",
          "text": [
            "[[55  9  1]\n",
            " [22 32  5]\n",
            " [ 5 10 24]]\n",
            "              precision    recall  f1-score   support\n",
            "\n",
            "           0       0.67      0.85      0.75        65\n",
            "           1       0.63      0.54      0.58        59\n",
            "           2       0.80      0.62      0.70        39\n",
            "\n",
            "    accuracy                           0.68       163\n",
            "   macro avg       0.70      0.67      0.68       163\n",
            "weighted avg       0.69      0.68      0.68       163\n",
            "\n"
          ]
        }
      ]
    },
    {
      "cell_type": "markdown",
      "source": [
        "Logistic Regression\n",
        "\n"
      ],
      "metadata": {
        "id": "jYBO4RfIOwxa"
      }
    },
    {
      "cell_type": "code",
      "source": [
        "from sklearn.linear_model import LogisticRegression\n",
        "\n",
        "logreg=LogisticRegression()\n",
        "logreg.fit(X_train,y_train)\n",
        "y_pred_probs=logreg.predict(X_test)\n",
        "\n",
        "print(y_pred_probs[:10])"
      ],
      "metadata": {
        "colab": {
          "base_uri": "https://localhost:8080/"
        },
        "id": "h1EQEF-4M5Il",
        "outputId": "64d776d1-d95e-4c2e-b7a2-db96bc5d0bef"
      },
      "execution_count": null,
      "outputs": [
        {
          "output_type": "stream",
          "name": "stdout",
          "text": [
            "[1 2 2 2 0 2 0 2 2 2]\n"
          ]
        },
        {
          "output_type": "stream",
          "name": "stderr",
          "text": [
            "/usr/local/lib/python3.11/dist-packages/sklearn/linear_model/_logistic.py:465: ConvergenceWarning: lbfgs failed to converge (status=1):\n",
            "STOP: TOTAL NO. OF ITERATIONS REACHED LIMIT.\n",
            "\n",
            "Increase the number of iterations (max_iter) or scale the data as shown in:\n",
            "    https://scikit-learn.org/stable/modules/preprocessing.html\n",
            "Please also refer to the documentation for alternative solver options:\n",
            "    https://scikit-learn.org/stable/modules/linear_model.html#logistic-regression\n",
            "  n_iter_i = _check_optimize_result(\n"
          ]
        }
      ]
    },
    {
      "cell_type": "markdown",
      "source": [
        "Used one-hot code to categorize, then used for loop to graph the roc_curve and calculated the auc"
      ],
      "metadata": {
        "id": "icAhBTzJWZuP"
      }
    },
    {
      "cell_type": "code",
      "source": [
        "from sklearn.metrics import roc_curve, auc\n",
        "import numpy as np\n",
        "import matplotlib.pyplot as plt\n",
        "\n",
        "#1.predict probabilites of each clas(3 classes)\n",
        "\n",
        "y_pred_probs=logreg.predict_proba(X_test)\n",
        "\n",
        "# 2. turn 3 things into one-hot code\n",
        "from sklearn.preprocessing import OneHotEncoder, label_binarize\n",
        "y_test_binarized= label_binarize(y_test, classes=[0,1,2])\n",
        "\n",
        "classes=logreg.classes_\n",
        "n_classes= len(classes)\n",
        "\n",
        "#3. Loop through to make ROC curve and area for each class\n",
        "fpr=dict()\n",
        "tpr=dict()\n",
        "roc_auc=dict()\n",
        "\n",
        "for i in range(n_classes):\n",
        "  fpr[i],tpr[i], _=roc_curve(y_test_binarized[:,i], y_pred_probs[:,i])\n",
        "  roc_auc[i]=auc(fpr[i],tpr[i])\n",
        "\n",
        "#4.. for loop to plot 3\n",
        "\n",
        "plt.figure(figsize=(10,7))\n",
        "\n",
        "colors= [\"aqua\",\"darkorange\",\"cornflowerblue\"]\n",
        "label_names=[\"Low Risk\",\"Medium Risk\",\"High Risk\"]\n",
        "\n",
        "for i, color in zip(range(n_classes),colors):\n",
        "  plt.plot(fpr[i],tpr[i],color=color , lw=2, label=f'{label_names[i]} (area={roc_auc[i]:0.2f})')\n",
        "\n",
        "plt.plot([0,1],[0,1],'k--',lw=2)\n",
        "\n",
        "plt.xlim([0.0,1.0])\n",
        "plt.ylim([0.0,1.05])\n",
        "plt.xlabel('False Positive Rate')\n",
        "plt.ylabel('True Positive Rate')\n",
        "plt.title('Receiver Operating Characteristic')\n",
        "plt.legend(loc='lower right')\n",
        "\n"
      ],
      "metadata": {
        "colab": {
          "base_uri": "https://localhost:8080/",
          "height": 678
        },
        "id": "j6weWTCIPfdp",
        "outputId": "2ea88c19-62f3-4a5b-a8e5-c21216df19b3"
      },
      "execution_count": null,
      "outputs": [
        {
          "output_type": "execute_result",
          "data": {
            "text/plain": [
              "<matplotlib.legend.Legend at 0x786c9ade1f10>"
            ]
          },
          "metadata": {},
          "execution_count": 32
        },
        {
          "output_type": "display_data",
          "data": {
            "text/plain": [
              "<Figure size 1000x700 with 1 Axes>"
            ],
            "image/png": "[encoded data removed]"
          },
          "metadata": {}
        }
      ]
    },
    {
      "cell_type": "markdown",
      "source": [
        "# Nice. ill work on the last chapter tmr.."
      ],
      "metadata": {
        "id": "dMR_QTxVaj6w"
      }
    },
    {
      "cell_type": "markdown",
      "source": [
        "OK... Scaling data..."
      ],
      "metadata": {
        "id": "2_zO_GJLrPo0"
      }
    },
    {
      "cell_type": "markdown",
      "source": [
        "Dummy variables"
      ],
      "metadata": {
        "id": "dqaysOKCrTtl"
      }
    },
    {
      "cell_type": "code",
      "source": [
        "from pandas import get_dummies\n",
        "\n",
        "dummies= pd.get_dummies(train, drop_first=True)\n",
        "\n",
        "print(\"Shape of the dummies is\" , dummies.shape)\n"
      ],
      "metadata": {
        "colab": {
          "base_uri": "https://localhost:8080/"
        },
        "id": "hix9NEWWrSGx",
        "outputId": "80cbcc67-0b2e-4bee-e8e9-85453976bd71"
      },
      "execution_count": null,
      "outputs": [
        {
          "output_type": "stream",
          "name": "stdout",
          "text": [
            "Shape of the dummies is (811, 8)\n"
          ]
        }
      ]
    },
    {
      "cell_type": "code",
      "source": [
        "from sklearn.linear_model import Ridge\n",
        "from sklearn.model_selection import cross_val_score, KFold\n",
        "import numpy as np\n",
        "\n",
        "kf=KFold(n_splits=5, shuffle= True, random_state=12)\n",
        "\n",
        "\n",
        "X = dummies.drop(\"RiskLevel\", axis=1).values\n",
        "y= dummies[\"RiskLevel\"].values\n",
        "\n",
        "ridge= Ridge(alpha=0.2)\n",
        "\n",
        "scores= cross_val_score(ridge, X, y, cv=kf, scoring=\"neg_mean_squared_error\")\n",
        "\n",
        "rmse=np.sqrt(-scores)\n",
        "print(f\"Average RMSE : {np.mean(rmse)}\")\n",
        "\n",
        "print(f\"Standard Deviation of the array is {np.std(y)}\")"
      ],
      "metadata": {
        "colab": {
          "base_uri": "https://localhost:8080/"
        },
        "id": "kgTSCHlasGZ_",
        "outputId": "55801684-6c8a-4671-d5ea-efc23802731a"
      },
      "execution_count": null,
      "outputs": [
        {
          "output_type": "stream",
          "name": "stdout",
          "text": [
            "Average RMSE : 0.6081938546596543\n",
            "Standard Deviation of the array is 0.8065833895586492\n"
          ]
        }
      ]
    },
    {
      "cell_type": "markdown",
      "source": [
        "Handle Missing Data"
      ],
      "metadata": {
        "id": "HsGLiGjVs-lj"
      }
    },
    {
      "cell_type": "code",
      "source": [
        "# Print missing values for each column\n",
        "print(dummies.isna().sum().sort_values())\n",
        "\n",
        "# Convert Heartrates to where the heartrate column is more than 70\n",
        "dummies[\"HeartRate\"] = np.where(dummies[\"HeartRate\"]>= 70, 1,0)\n",
        "\n",
        "\n",
        "print(f\"Shape of the dummies is {dummies.shape}\")"
      ],
      "metadata": {
        "colab": {
          "base_uri": "https://localhost:8080/"
        },
        "id": "_I7fthbxs_x2",
        "outputId": "44d7798e-1a23-4a26-9209-3a4f3a91319b"
      },
      "execution_count": null,
      "outputs": [
        {
          "output_type": "stream",
          "name": "stdout",
          "text": [
            "Id               0\n",
            "Age              0\n",
            "SystolicBP       0\n",
            "DiastolicBP      0\n",
            "Blood glucose    0\n",
            "BodyTemp         0\n",
            "HeartRate        0\n",
            "RiskLevel        0\n",
            "dtype: int64\n",
            "Shape of the dummies is (811, 8)\n"
          ]
        }
      ]
    },
    {
      "cell_type": "markdown",
      "source": [
        "Implementing Pipelines\n"
      ],
      "metadata": {
        "id": "2CCbegZVt38q"
      }
    },
    {
      "cell_type": "code",
      "source": [
        "from sklearn.impute import SimpleImputer\n",
        "from sklearn.pipeline import Pipeline\n",
        "\n",
        "imputer=SimpleImputer()\n",
        "\n",
        "knn= KNeighborsClassifier(n_neighbors = 3)\n",
        "\n",
        "steps = [(\"imputer\", imputer),\n",
        "         (\"knn\",knn)]\n",
        "#Create pipeline\n",
        "pipeline=Pipeline(steps)\n",
        "\n",
        "#fit model\n",
        "pipeline.fit(X_train,y_train)\n",
        "\n",
        "#Make predictions on test set\n",
        "y_pred= pipeline.predict(X_test)\n",
        "\n",
        "#Print confusion matrix\n",
        "print(confusion_matrix(y_test,y_pred))"
      ],
      "metadata": {
        "colab": {
          "base_uri": "https://localhost:8080/"
        },
        "id": "9JnBg9BXt53s",
        "outputId": "30d980f2-267e-4aad-b013-22fda00e0412"
      },
      "execution_count": null,
      "outputs": [
        {
          "output_type": "stream",
          "name": "stdout",
          "text": [
            "[[49 15  1]\n",
            " [12 43  4]\n",
            " [ 5  8 26]]\n"
          ]
        }
      ]
    },
    {
      "cell_type": "markdown",
      "source": [
        "Centering and Scaling"
      ],
      "metadata": {
        "id": "2r8UH6VOuqpT"
      }
    },
    {
      "cell_type": "code",
      "source": [
        "from sklearn.preprocessing import StandardScaler\n",
        "from sklearn.linear_model import Lasso\n",
        "\n",
        "#Create pipeline steps\n",
        "steps= [(\"scaler\",StandardScaler()),\n",
        "        (\"lasso\",Lasso(alpha=0.5))]\n",
        "\n",
        "# Insantiate Pipeline\n",
        "pipeline=Pipeline(steps)\n",
        "\n",
        "# Fit data\n",
        "pipeline.fit(X_train,y_train)\n",
        "\n",
        "\n",
        "#Print R-squared\n",
        "print(pipeline.score(X_test,y_test))"
      ],
      "metadata": {
        "colab": {
          "base_uri": "https://localhost:8080/"
        },
        "id": "TaoKBt6Hur8S",
        "outputId": "90e87eed-c9c8-4747-a42a-0fbb02d326eb"
      },
      "execution_count": null,
      "outputs": [
        {
          "output_type": "stream",
          "name": "stdout",
          "text": [
            "-0.0017740254285647516\n"
          ]
        }
      ]
    },
    {
      "cell_type": "code",
      "source": [
        "from sklearn.model_selection import GridSearchCV\n",
        "from sklearn.linear_model import LogisticRegression\n",
        "# Have the steps for pipeline\n",
        "steps = [(\"scaler\",StandardScaler()),\n",
        "         (\"logreg\", LogisticRegression())]\n",
        "\n",
        "# Insantiate the pipeline\n",
        "pipeline=Pipeline(steps)\n",
        "\n",
        "#Create parameter space\n",
        "parameters = {\"logreg__C\" : np.linspace(0.001,1.0,20)}\n",
        "\n",
        "X_train,X_test, y_train, y_test = train_test_split(X, y, test_size= 0.2, random_state=21)\n",
        "\n",
        "# Insantiate GridSearch\n",
        "cv= GridSearchCV(pipeline , param_grid= parameters)\n",
        "\n",
        "#Fit Gridsearch\n",
        "cv.fit(X_train,y_train)\n",
        "\n",
        "# Print best score and best parameters\n",
        "print(cv.best_score_)\n",
        "print(cv.best_params_)\n",
        "\n"
      ],
      "metadata": {
        "colab": {
          "base_uri": "https://localhost:8080/"
        },
        "id": "OA7kh1bAvM2w",
        "outputId": "7a826a36-9fe5-484a-a10c-11bc721e9ca1"
      },
      "execution_count": null,
      "outputs": [
        {
          "output_type": "stream",
          "name": "stdout",
          "text": [
            "0.6234943351222422\n",
            "{'logreg__C': np.float64(0.05357894736842105)}\n"
          ]
        }
      ]
    },
    {
      "cell_type": "markdown",
      "source": [],
      "metadata": {
        "id": "m1_LgXEswm89"
      }
    },
    {
      "cell_type": "code",
      "source": [
        "import matplotlib.pyplot as plt\n",
        "\n",
        "#Get models\n",
        "models= {\"Linear Regression\": LinearRegression(),\n",
        "         \"Ridge\" : Ridge(alpha=0.1),\n",
        "         \"Lasso\": Lasso(alpha=0.1)}\n",
        "\n",
        "results=[]\n",
        "\n",
        "# Loop through model values\n",
        "for model in models.values():\n",
        "  kf=KFold(n_splits=6, random_state=42, shuffle=True)\n",
        "\n",
        "# cross validation.. renember to use model(single), not models since we're looping through\n",
        "  cv_scores= cross_val_score(model,X_train, y_train, cv=kf)\n",
        "\n",
        "  results.append(cv_scores)\n",
        "\n",
        "# Plot\n",
        "plt.boxplot(results, labels=models.keys())\n",
        "\n",
        "plt.show()"
      ],
      "metadata": {
        "colab": {
          "base_uri": "https://localhost:8080/",
          "height": 485
        },
        "id": "Vidsq-c5wpCF",
        "outputId": "b7660330-776e-49fb-84a6-518c1b9efa3b"
      },
      "execution_count": null,
      "outputs": [
        {
          "output_type": "stream",
          "name": "stderr",
          "text": [
            "/tmp/ipython-input-3433865369.py:17: MatplotlibDeprecationWarning: The 'labels' parameter of boxplot() has been renamed 'tick_labels' since Matplotlib 3.9; support for the old name will be dropped in 3.11.\n",
            "  plt.boxplot(results, labels=models.keys())\n"
          ]
        },
        {
          "output_type": "display_data",
          "data": {
            "text/plain": [
              "<Figure size 640x480 with 1 Axes>"
            ],
            "image/png": "[encoded data removed]"
          },
          "metadata": {}
        }
      ]
    },
    {
      "cell_type": "markdown",
      "source": [
        "Predicting on Test Set"
      ],
      "metadata": {
        "id": "xk-x4raRyWIe"
      }
    },
    {
      "cell_type": "code",
      "source": [
        "from sklearn.metrics import root_mean_squared_error\n",
        "\n",
        "from sklearn.preprocessing import StandardScaler\n",
        "\n",
        "#Insantiate standard scaler\n",
        "scaler=StandardScaler()\n",
        "\n",
        "# Scale the X and ys\n",
        "X_train_scaled= scaler.fit_transform(X_train)\n",
        "X_test_scaled= scaler.transform(X_test)\n",
        "\n",
        "for name, model in models.items():\n",
        "  # Fit model\n",
        "  model.fit(X_train_scaled, y_train)\n",
        "# preditct\n",
        "  y_pred = model.predict(X_test_scaled)\n",
        "# calculate the test_rmse\n",
        "  test_rmse= root_mean_squared_error(y_test,y_pred)\n",
        "\n",
        "  print(f\"Test Set RMSE :{name,test_rmse}\")\n"
      ],
      "metadata": {
        "colab": {
          "base_uri": "https://localhost:8080/"
        },
        "id": "FDzBMIb1xevk",
        "outputId": "8ec28ef5-9d46-4cf8-ac02-8211cd1e49c1"
      },
      "execution_count": null,
      "outputs": [
        {
          "output_type": "stream",
          "name": "stdout",
          "text": [
            "Test Set RMSE :('Linear Regression', 0.5922877917333388)\n",
            "Test Set RMSE :('Ridge', 0.5922981994423419)\n",
            "Test Set RMSE :('Lasso', 0.6596086316481967)\n"
          ]
        }
      ]
    },
    {
      "cell_type": "markdown",
      "source": [
        "Visualizing performance of models"
      ],
      "metadata": {
        "id": "4XU_7g2QzbPo"
      }
    },
    {
      "cell_type": "code",
      "source": [
        "from sklearn.tree import DecisionTreeClassifier\n",
        "\n",
        "#create the models dictionary\n",
        "models= {\"Logistic Regression\": LogisticRegression(),\n",
        "         \"KNN\" : KNeighborsClassifier(),\n",
        "         \"Decision Tree Classifier\": DecisionTreeClassifier()}\n",
        "\n",
        "results=[]\n",
        "\n",
        "#Loop through\n",
        "for model in models.values():\n",
        "  kf=KFold(n_splits=6, random_state=12, shuffle=True)\n",
        "\n",
        "#cross validation , again use individual 'model'\n",
        "  cv_results= cross_val_score(model, X_train_scaled, y_train, cv=kf)\n",
        "\n",
        "  results.append(cv_results)\n",
        "#Plot\n",
        "plt.boxplot(results, labels= models.keys())\n",
        "\n",
        "plt.show()"
      ],
      "metadata": {
        "colab": {
          "base_uri": "https://localhost:8080/",
          "height": 485
        },
        "id": "O-A9AXE1yYhr",
        "outputId": "4c809b10-2e8f-4ca8-9cd6-7db143d4435a"
      },
      "execution_count": null,
      "outputs": [
        {
          "output_type": "stream",
          "name": "stderr",
          "text": [
            "/tmp/ipython-input-2698983499.py:16: MatplotlibDeprecationWarning: The 'labels' parameter of boxplot() has been renamed 'tick_labels' since Matplotlib 3.9; support for the old name will be dropped in 3.11.\n",
            "  plt.boxplot(results, labels= models.keys())\n"
          ]
        },
        {
          "output_type": "display_data",
          "data": {
            "text/plain": [
              "<Figure size 640x480 with 1 Axes>"
            ],
            "image/png": "[encoded data removed]"
          },
          "metadata": {}
        }
      ]
    },
    {
      "cell_type": "markdown",
      "source": [
        "Pipeline for predictions"
      ],
      "metadata": {
        "id": "zGrKxTLXzeEg"
      }
    },
    {
      "cell_type": "code",
      "source": [
        "# Have steps for imputer, scaler and logistic reg\n",
        "steps = [(\"imp_mean\", SimpleImputer()),\n",
        "         (\"scaler\", StandardScaler()),\n",
        "         (\"logreg\", LogisticRegression())]\n",
        "\n",
        "# Insantiate pipeline\n",
        "pipeline = Pipeline(steps)\n",
        "\n",
        "# Build parameters\n",
        "params = {\"logreg__C\" : np.linspace(0.001,1.0, 10)}\n",
        "\n",
        "# Create Gridsearch Object\n",
        "tuning= GridSearchCV(pipeline, param_grid= params)\n",
        "\n",
        "#Fit gridserach\n",
        "tuning.fit(X_train,y_train)\n",
        "# Predict\n",
        "y_pred = tuning.predict(X_test)\n",
        "\n",
        "# Print\n",
        "print(f\"Tuned Logistic Regression Parameters : {tuning.score(X_test,y_test)}\")"
      ],
      "metadata": {
        "colab": {
          "base_uri": "https://localhost:8080/"
        },
        "id": "7aX2-AQgzhFQ",
        "outputId": "7bb464d0-0798-48d8-830b-36fe0303edb9"
      },
      "execution_count": null,
      "outputs": [
        {
          "output_type": "stream",
          "name": "stdout",
          "text": [
            "Tuned Logistic Regression Parameters : 0.6503067484662577\n"
          ]
        }
      ]
    },
    {
      "cell_type": "markdown",
      "source": [],
      "metadata": {
        "id": "yCbxVeoUz5Rq"
      }
    }
  ]
}